{
 "cells": [
  {
   "cell_type": "markdown",
   "metadata": {},
   "source": [
    "[Introduction to Machine Learning with Python and Scikit-Learn](http://kukuruku.co/hub/python/introduction-to-machine-learning-with-python-andscikit-learn)"
   ]
  },
  {
   "cell_type": "code",
   "execution_count": 1,
   "metadata": {
    "collapsed": true
   },
   "outputs": [],
   "source": [
    "import numpy as np\n",
    "import urllib"
   ]
  },
  {
   "cell_type": "code",
   "execution_count": 3,
   "metadata": {
    "collapsed": false
   },
   "outputs": [],
   "source": [
    "## load data\n",
    "url = \"http://archive.ics.uci.edu/ml/machine-learning-databases/pima-indians-diabetes/pima-indians-diabetes.data\"\n",
    "raw_data = urllib.urlopen(url)\n",
    "dataset = np.loadtxt(raw_data, delimiter=',')\n",
    "X = dataset[:, 0:7]\n",
    "y = dataset[:, 8]"
   ]
  },
  {
   "cell_type": "code",
   "execution_count": 4,
   "metadata": {
    "collapsed": true
   },
   "outputs": [],
   "source": [
    "## data normalization\n",
    "from sklearn import  preprocessing\n",
    "normalized_X = preprocessing.normalize(X)\n",
    "standardized_X = preprocessing.scale(X)"
   ]
  },
  {
   "cell_type": "code",
   "execution_count": 5,
   "metadata": {
    "collapsed": false
   },
   "outputs": [
    {
     "name": "stdout",
     "output_type": "stream",
     "text": [
      "[ 0.13093777  0.25575154  0.11844188  0.08568266  0.09105997  0.18077661\n",
      "  0.13734957]\n"
     ]
    }
   ],
   "source": [
    "## feature selection\n",
    "from sklearn import  metrics\n",
    "from sklearn.ensemble import ExtraTreesClassifier\n",
    "model = ExtraTreesClassifier()\n",
    "model.fit(X, y)\n",
    "print(model.feature_importances_)"
   ]
  },
  {
   "cell_type": "code",
   "execution_count": 7,
   "metadata": {
    "collapsed": false
   },
   "outputs": [
    {
     "name": "stdout",
     "output_type": "stream",
     "text": [
      "[ True False False False False  True  True]\n",
      "[1 2 3 5 4 1 1]\n"
     ]
    }
   ],
   "source": [
    "## recursive feature elemination algorithm\n",
    "from sklearn.feature_selection import RFE\n",
    "from sklearn.linear_model import LogisticRegression\n",
    "model = LogisticRegression()\n",
    "# select 3 attributes\n",
    "rfe = RFE(model, 3)\n",
    "rfe = rfe.fit(X, y)\n",
    "# summarize the selection of attributes\n",
    "print(rfe.support_)\n",
    "print(rfe.ranking_)"
   ]
  },
  {
   "cell_type": "code",
   "execution_count": 8,
   "metadata": {
    "collapsed": false
   },
   "outputs": [
    {
     "name": "stdout",
     "output_type": "stream",
     "text": [
      "             precision    recall  f1-score   support\n",
      "\n",
      "        0.0       0.79      0.89      0.84       500\n",
      "        1.0       0.74      0.55      0.63       268\n",
      "\n",
      "avg / total       0.77      0.77      0.77       768\n",
      "\n",
      "[[447  53]\n",
      " [120 148]]\n"
     ]
    }
   ],
   "source": [
    "## logistic regression\n",
    "model = LogisticRegression()\n",
    "model.fit(X, y)\n",
    "predicted = model.predict(X)\n",
    "print(metrics.classification_report(y, predicted))\n",
    "print(metrics.confusion_matrix(y, predicted))"
   ]
  },
  {
   "cell_type": "code",
   "execution_count": 9,
   "metadata": {
    "collapsed": false
   },
   "outputs": [
    {
     "name": "stdout",
     "output_type": "stream",
     "text": [
      "             precision    recall  f1-score   support\n",
      "\n",
      "        0.0       0.80      0.86      0.83       500\n",
      "        1.0       0.69      0.60      0.64       268\n",
      "\n",
      "avg / total       0.76      0.77      0.76       768\n",
      "\n",
      "[[429  71]\n",
      " [108 160]]\n"
     ]
    }
   ],
   "source": [
    "## naive bayes\n",
    "from sklearn.naive_bayes import GaussianNB\n",
    "model = GaussianNB()\n",
    "model.fit(X, y)\n",
    "predicted = model.predict(X)\n",
    "print(metrics.classification_report(y, predicted))\n",
    "print(metrics.confusion_matrix(y, predicted))"
   ]
  },
  {
   "cell_type": "code",
   "execution_count": 10,
   "metadata": {
    "collapsed": false
   },
   "outputs": [
    {
     "name": "stdout",
     "output_type": "stream",
     "text": [
      "KNeighborsClassifier(algorithm='auto', leaf_size=30, metric='minkowski',\n",
      "           metric_params=None, n_neighbors=5, p=2, weights='uniform')\n",
      "             precision    recall  f1-score   support\n",
      "\n",
      "        0.0       0.82      0.90      0.86       500\n",
      "        1.0       0.77      0.63      0.69       268\n",
      "\n",
      "avg / total       0.80      0.80      0.80       768\n",
      "\n",
      "[[448  52]\n",
      " [ 98 170]]\n"
     ]
    }
   ],
   "source": [
    "## k-nearest neighbours\n",
    "from sklearn.neighbors import KNeighborsClassifier\n",
    "model = KNeighborsClassifier()\n",
    "model.fit(X, y)\n",
    "print(model)\n",
    "predicted = model.predict(X)\n",
    "print(metrics.classification_report(y, predicted))\n",
    "print(metrics.confusion_matrix(y, predicted))"
   ]
  },
  {
   "cell_type": "code",
   "execution_count": 11,
   "metadata": {
    "collapsed": false
   },
   "outputs": [
    {
     "name": "stdout",
     "output_type": "stream",
     "text": [
      "DecisionTreeClassifier(class_weight=None, criterion='gini', max_depth=None,\n",
      "            max_features=None, max_leaf_nodes=None, min_samples_leaf=1,\n",
      "            min_samples_split=2, min_weight_fraction_leaf=0.0,\n",
      "            random_state=None, splitter='best')\n",
      "             precision    recall  f1-score   support\n",
      "\n",
      "        0.0       1.00      1.00      1.00       500\n",
      "        1.0       1.00      1.00      1.00       268\n",
      "\n",
      "avg / total       1.00      1.00      1.00       768\n",
      "\n",
      "[[500   0]\n",
      " [  0 268]]\n"
     ]
    }
   ],
   "source": [
    "## decision trees: classification and regression trees (CART)\n",
    "from sklearn.tree import DecisionTreeClassifier\n",
    "model = DecisionTreeClassifier()\n",
    "model.fit(X, y)\n",
    "print(model)\n",
    "predicted = model.predict(X)\n",
    "print(metrics.classification_report(y, predicted))\n",
    "print(metrics.confusion_matrix(y, predicted))"
   ]
  },
  {
   "cell_type": "code",
   "execution_count": 12,
   "metadata": {
    "collapsed": false
   },
   "outputs": [
    {
     "name": "stdout",
     "output_type": "stream",
     "text": [
      "SVC(C=1.0, cache_size=200, class_weight=None, coef0=0.0, degree=3, gamma=0.0,\n",
      "  kernel='rbf', max_iter=-1, probability=False, random_state=None,\n",
      "  shrinking=True, tol=0.001, verbose=False)\n",
      "             precision    recall  f1-score   support\n",
      "\n",
      "        0.0       1.00      1.00      1.00       500\n",
      "        1.0       1.00      1.00      1.00       268\n",
      "\n",
      "avg / total       1.00      1.00      1.00       768\n",
      "\n",
      "[[500   0]\n",
      " [  0 268]]\n"
     ]
    }
   ],
   "source": [
    "## support vector machines\n",
    "from sklearn.svm import SVC\n",
    "model = SVC()\n",
    "model.fit(X, y)\n",
    "print(model)\n",
    "predicted = model.predict(X)\n",
    "print(metrics.classification_report(y, predicted))\n",
    "print(metrics.confusion_matrix(y, predicted))"
   ]
  },
  {
   "cell_type": "code",
   "execution_count": 13,
   "metadata": {
    "collapsed": false
   },
   "outputs": [
    {
     "name": "stdout",
     "output_type": "stream",
     "text": [
      "GridSearchCV(cv=None, error_score='raise',\n",
      "       estimator=Ridge(alpha=1.0, copy_X=True, fit_intercept=True, max_iter=None,\n",
      "   normalize=False, solver='auto', tol=0.001),\n",
      "       fit_params={}, iid=True, loss_func=None, n_jobs=1,\n",
      "       param_grid={'alpha': array([  1.00000e+00,   1.00000e-01,   1.00000e-02,   1.00000e-03,\n",
      "         1.00000e-04,   0.00000e+00])},\n",
      "       pre_dispatch='2*n_jobs', refit=True, score_func=None, scoring=None,\n",
      "       verbose=0)\n",
      "0.282118955686\n",
      "1.0\n"
     ]
    }
   ],
   "source": [
    "## optimize algorithm parameters: selection of the regularization parameter\n",
    "from sklearn.linear_model import Ridge\n",
    "from sklearn.grid_search import GridSearchCV\n",
    "alphas = np.array([1, 0.1, 0.01, 0.001, 0.0001, 0])\n",
    "model = Ridge()\n",
    "grid = GridSearchCV(estimator=model, param_grid=dict(alpha=alphas))\n",
    "grid.fit(X, y)\n",
    "print(grid)\n",
    "print(grid.best_score_)\n",
    "print(grid.best_estimator_.alpha)"
   ]
  },
  {
   "cell_type": "code",
   "execution_count": 15,
   "metadata": {
    "collapsed": false
   },
   "outputs": [
    {
     "name": "stdout",
     "output_type": "stream",
     "text": [
      "RandomizedSearchCV(cv=None, error_score='raise',\n",
      "          estimator=Ridge(alpha=1.0, copy_X=True, fit_intercept=True, max_iter=None,\n",
      "   normalize=False, solver='auto', tol=0.001),\n",
      "          fit_params={}, iid=True, n_iter=100, n_jobs=1,\n",
      "          param_distributions={'alpha': <scipy.stats._distn_infrastructure.rv_frozen object at 0x107429b90>},\n",
      "          pre_dispatch='2*n_jobs', random_state=None, refit=True,\n",
      "          scoring=None, verbose=0)\n",
      "0.282117844453\n",
      "0.959009203043\n"
     ]
    }
   ],
   "source": [
    "## optimize algorithm parameters: randomly select a parameter from the given range\n",
    "from scipy.stats import uniform as sp_rand\n",
    "from sklearn.linear_model import Ridge\n",
    "from sklearn.grid_search import RandomizedSearchCV\n",
    "param_grid = {'alpha': sp_rand()}\n",
    "model = Ridge()\n",
    "rsearch = RandomizedSearchCV(estimator=model, \n",
    "                             param_distributions=param_grid, \n",
    "                             n_iter=100)\n",
    "rsearch.fit(X, y)\n",
    "print(rsearch)\n",
    "print(rsearch.best_score_)\n",
    "print(rsearch.best_estimator_.alpha)"
   ]
  },
  {
   "cell_type": "code",
   "execution_count": 21,
   "metadata": {
    "collapsed": false
   },
   "outputs": [
    {
     "ename": "ValueError",
     "evalue": "Mix type of y not allowed, got types set(['binary', 'continuous'])",
     "output_type": "error",
     "traceback": [
      "\u001b[0;31m---------------------------------------------------------------------------\u001b[0m",
      "\u001b[0;31mValueError\u001b[0m                                Traceback (most recent call last)",
      "\u001b[0;32m<ipython-input-21-e6570853193a>\u001b[0m in \u001b[0;36m<module>\u001b[0;34m()\u001b[0m\n\u001b[1;32m      1\u001b[0m \u001b[0mpredicted\u001b[0m \u001b[0;34m=\u001b[0m \u001b[0mrsearch\u001b[0m\u001b[0;34m.\u001b[0m\u001b[0mpredict\u001b[0m\u001b[0;34m(\u001b[0m\u001b[0mX\u001b[0m\u001b[0;34m)\u001b[0m\u001b[0;34m\u001b[0m\u001b[0m\n\u001b[0;32m----> 2\u001b[0;31m \u001b[0;32mprint\u001b[0m\u001b[0;34m(\u001b[0m\u001b[0mmetrics\u001b[0m\u001b[0;34m.\u001b[0m\u001b[0mclassification_report\u001b[0m\u001b[0;34m(\u001b[0m\u001b[0my\u001b[0m\u001b[0;34m,\u001b[0m \u001b[0mpredicted\u001b[0m\u001b[0;34m)\u001b[0m\u001b[0;34m)\u001b[0m\u001b[0;34m\u001b[0m\u001b[0m\n\u001b[0m\u001b[1;32m      3\u001b[0m \u001b[0;32mprint\u001b[0m\u001b[0;34m(\u001b[0m\u001b[0mmetrics\u001b[0m\u001b[0;34m.\u001b[0m\u001b[0mconfusion_matrix\u001b[0m\u001b[0;34m(\u001b[0m\u001b[0my\u001b[0m\u001b[0;34m,\u001b[0m \u001b[0mpredicted\u001b[0m\u001b[0;34m)\u001b[0m\u001b[0;34m)\u001b[0m\u001b[0;34m\u001b[0m\u001b[0m\n",
      "\u001b[0;32m/usr/local/opt/pyenv/versions/miniconda-3.7.0/lib/python2.7/site-packages/sklearn/metrics/classification.pyc\u001b[0m in \u001b[0;36mclassification_report\u001b[0;34m(y_true, y_pred, labels, target_names, sample_weight, digits)\u001b[0m\n\u001b[1;32m   1222\u001b[0m \u001b[0;34m\u001b[0m\u001b[0m\n\u001b[1;32m   1223\u001b[0m     \u001b[0;32mif\u001b[0m \u001b[0mlabels\u001b[0m \u001b[0;32mis\u001b[0m \u001b[0mNone\u001b[0m\u001b[0;34m:\u001b[0m\u001b[0;34m\u001b[0m\u001b[0m\n\u001b[0;32m-> 1224\u001b[0;31m         \u001b[0mlabels\u001b[0m \u001b[0;34m=\u001b[0m \u001b[0munique_labels\u001b[0m\u001b[0;34m(\u001b[0m\u001b[0my_true\u001b[0m\u001b[0;34m,\u001b[0m \u001b[0my_pred\u001b[0m\u001b[0;34m)\u001b[0m\u001b[0;34m\u001b[0m\u001b[0m\n\u001b[0m\u001b[1;32m   1225\u001b[0m     \u001b[0;32melse\u001b[0m\u001b[0;34m:\u001b[0m\u001b[0;34m\u001b[0m\u001b[0m\n\u001b[1;32m   1226\u001b[0m         \u001b[0mlabels\u001b[0m \u001b[0;34m=\u001b[0m \u001b[0mnp\u001b[0m\u001b[0;34m.\u001b[0m\u001b[0masarray\u001b[0m\u001b[0;34m(\u001b[0m\u001b[0mlabels\u001b[0m\u001b[0;34m)\u001b[0m\u001b[0;34m\u001b[0m\u001b[0m\n",
      "\u001b[0;32m/usr/local/opt/pyenv/versions/miniconda-3.7.0/lib/python2.7/site-packages/sklearn/utils/multiclass.pyc\u001b[0m in \u001b[0;36munique_labels\u001b[0;34m(*ys)\u001b[0m\n\u001b[1;32m     91\u001b[0m \u001b[0;34m\u001b[0m\u001b[0m\n\u001b[1;32m     92\u001b[0m     \u001b[0;32mif\u001b[0m \u001b[0mlen\u001b[0m\u001b[0;34m(\u001b[0m\u001b[0mys_types\u001b[0m\u001b[0;34m)\u001b[0m \u001b[0;34m>\u001b[0m \u001b[0;36m1\u001b[0m\u001b[0;34m:\u001b[0m\u001b[0;34m\u001b[0m\u001b[0m\n\u001b[0;32m---> 93\u001b[0;31m         \u001b[0;32mraise\u001b[0m \u001b[0mValueError\u001b[0m\u001b[0;34m(\u001b[0m\u001b[0;34m\"Mix type of y not allowed, got types %s\"\u001b[0m \u001b[0;34m%\u001b[0m \u001b[0mys_types\u001b[0m\u001b[0;34m)\u001b[0m\u001b[0;34m\u001b[0m\u001b[0m\n\u001b[0m\u001b[1;32m     94\u001b[0m \u001b[0;34m\u001b[0m\u001b[0m\n\u001b[1;32m     95\u001b[0m     \u001b[0mlabel_type\u001b[0m \u001b[0;34m=\u001b[0m \u001b[0mys_types\u001b[0m\u001b[0;34m.\u001b[0m\u001b[0mpop\u001b[0m\u001b[0;34m(\u001b[0m\u001b[0;34m)\u001b[0m\u001b[0;34m\u001b[0m\u001b[0m\n",
      "\u001b[0;31mValueError\u001b[0m: Mix type of y not allowed, got types set(['binary', 'continuous'])"
     ]
    }
   ],
   "source": [
    "predicted = rsearch.predict(X)\n",
    "print(metrics.classification_report(y, predicted))\n",
    "print(metrics.confusion_matrix(y, predicted))"
   ]
  },
  {
   "cell_type": "code",
   "execution_count": 22,
   "metadata": {
    "collapsed": false
   },
   "outputs": [
    {
     "data": {
      "text/plain": [
       "array([ 0.62174181, -0.00917087,  0.77448528, -0.010409  ,  0.81177823,\n",
       "        0.22924422,  0.05655705,  0.61845581,  0.60921831, -0.01845282,\n",
       "        0.28696287,  0.88561773,  0.68792214,  0.52907262,  0.56489235,\n",
       "        0.43436414,  0.36813547,  0.28491162,  0.35341672,  0.27933079,\n",
       "        0.42042116,  0.3368798 ,  0.95944756,  0.38809787,  0.6266047 ,\n",
       "        0.46754439,  0.65463671,  0.01329612,  0.53009562,  0.33053046,\n",
       "        0.3720682 ,  0.55953298,  0.02967293, -0.00644394,  0.45456468,\n",
       "        0.20898945,  0.64252865,  0.4039501 ,  0.21729759,  0.46570167,\n",
       "        0.69750195,  0.62888089,  0.14736654,  0.88265242,  0.60022478,\n",
       "        0.97945418,  0.45784946, -0.02422951,  0.41436794,  0.04312367,\n",
       "       -0.01702931,  0.10972975,  0.07480502,  0.72541294,  0.63338839,\n",
       "       -0.11164323,  0.83275587,  0.34725555,  0.70364623,  0.23387697,\n",
       "       -0.21044558,  0.51874275, -0.13599472,  0.3859496 ,  0.386895  ,\n",
       "        0.16948256,  0.2201885 ,  0.39586989, -0.04952617,  0.38626189,\n",
       "        0.25069914,  0.43310682,  0.74911432,  0.33579694,  0.01342387,\n",
       "       -0.5476414 ,  0.06176304,  0.288502  ,  0.59032732,  0.15340099,\n",
       "        0.17096468, -0.30178192,  0.18830654,  0.02224768,  0.59681263,\n",
       "        0.25635806,  0.51192112,  0.24248536,  0.73183014,  0.09230403,\n",
       "       -0.12867561,  0.32070387,  0.33334401,  0.30598697,  0.35555271,\n",
       "        0.5019654 ,  0.09964102, -0.15765631,  0.21384944,  0.42452323,\n",
       "        0.74969377,  0.37510985,  0.0820773 , -0.06345823,  0.27680677,\n",
       "        0.32768888, -0.13320266,  0.44452907,  0.14074697,  0.10757625,\n",
       "        0.59323772,  0.63291473,  0.02411426,  0.12362553,  0.67694953,\n",
       "        0.47473499,  0.39155891,  0.22515051,  0.1866372 ,  0.05758152,\n",
       "        0.8066978 ,  0.36499616,  0.21458669,  0.32817944,  0.19457724,\n",
       "        0.45946337,  0.45017234,  0.26531816,  0.22505458,  0.12743967,\n",
       "        0.60579127,  0.64117524,  0.62545801,  0.31325137,  0.04198184,\n",
       "        0.30138843,  0.13181331,  0.06423055,  0.32006415,  0.2450657 ,\n",
       "        0.19504416,  0.34632359,  0.24594341,  0.42214473,  0.50551853,\n",
       "       -0.26580505,  0.03428177,  0.33356033,  0.51957782,  0.00797722,\n",
       "        0.39527883,  0.19642073,  0.78061864,  0.51410734,  1.01996416,\n",
       "        0.81041076,  0.12913784,  0.18610036,  0.02118554,  1.09106237,\n",
       "        0.45160741,  0.32529874,  0.26326471,  0.15519064,  0.32704998,\n",
       "        0.28490997,  0.4893613 ,  0.36974617,  0.30742407,  0.18111343,\n",
       "        0.21757224,  0.52671909,  0.25777985,  0.2283036 , -0.00786149,\n",
       "        0.83783274,  0.15746993,  0.64673662,  0.63972679,  0.58907009,\n",
       "        0.01561925,  0.3256048 , -0.54234937,  0.02123239,  0.38972027,\n",
       "        0.98423635,  0.73846147,  0.39230953,  0.33010384,  0.42829413,\n",
       "        0.12504756,  0.48533171,  0.64892674,  1.05596807,  0.12784322,\n",
       "        0.63407431,  0.075706  ,  0.17510756,  0.38796604,  0.42854363,\n",
       "        0.2447115 ,  0.44320889,  0.17701293, -0.01386017,  0.3189833 ,\n",
       "        0.21027527,  0.95117352,  0.6002635 ,  0.12309505,  0.82633001,\n",
       "        0.00938442,  0.52140537,  0.72747145,  0.50159829,  0.37565457,\n",
       "        0.86718882,  0.36607175,  0.39475537,  0.23700016,  0.39090644,\n",
       "        0.6615058 ,  0.54721025,  0.44606783,  0.54413473,  0.07985688,\n",
       "        0.04012767,  0.14088756,  0.72444934,  1.02748002,  0.3278373 ,\n",
       "        0.64706218,  0.5560966 , -0.06272119,  0.40589936, -0.00693733,\n",
       "        0.82296333,  0.81133444,  0.77124492,  0.7640136 , -0.01106645,\n",
       "        0.04221217,  0.17707628,  0.39102059,  0.47438938,  0.47978966,\n",
       "        0.93101382,  0.48565634,  0.62381601,  0.44906768,  0.12374729,\n",
       "        0.41412583,  0.2570046 , -0.03673751,  0.07189388,  0.36750801,\n",
       "        0.28670438,  0.29689506,  0.17802193,  0.64819762,  0.85752041,\n",
       "        0.7086482 ,  0.62621517,  0.230137  ,  0.41450977,  0.35972251,\n",
       "        0.31802824,  0.64151151,  0.57092584,  0.03893234,  0.52081491,\n",
       "        0.63998637,  0.10190445,  0.18130846, -0.03131918,  0.49731269,\n",
       "        0.31927304,  0.27226796,  0.09511295,  0.28910907,  0.17402754,\n",
       "        0.47749682,  0.55262331,  0.42259171,  0.58728547,  0.12004555,\n",
       "        0.4466073 ,  0.57548836,  0.43320519,  0.06670574,  0.31604257,\n",
       "        0.01803806,  0.28662312,  0.56908903,  0.47495115,  0.38771818,\n",
       "        0.67247641,  0.32700306,  0.21709121,  0.48858963,  0.35334542,\n",
       "        0.75194031,  0.44312318,  0.09249903,  0.53430609,  0.32311945,\n",
       "        0.34068725,  0.63282032,  0.19657552,  0.39715623,  0.37197692,\n",
       "        0.07441688,  0.2636404 ,  0.42124468,  0.30859323,  0.49730647,\n",
       "        0.25219854, -0.02026104,  0.66847748,  0.31817067,  0.68411602,\n",
       "        0.34143086,  0.23207831,  0.19215278,  0.70478832,  0.25156537,\n",
       "        0.33897932,  0.35383031,  0.87242457,  0.27044855,  0.2377123 ,\n",
       "        0.47795945,  0.08763495,  0.91781792,  0.29504728,  0.00434644,\n",
       "        0.65101934,  0.48015249,  0.31400442,  0.72374043,  0.84519734,\n",
       "        0.24676723,  0.06066591, -0.45600565,  0.37430537,  0.37013077,\n",
       "        0.50648345,  0.41934795,  0.30196308,  0.04679218, -0.26847164,\n",
       "        0.26918063,  0.39326944, -0.05215589,  0.06414039,  0.29085297,\n",
       "        0.67816274,  0.41533392,  0.9036775 ,  0.3757465 ,  0.80897127,\n",
       "        0.76302047,  0.55027221,  0.27305337,  0.59685761,  0.48631325,\n",
       "        0.30484211,  0.35860137, -0.02044889, -0.03190078,  0.24708108,\n",
       "        0.87810871,  0.01101428,  0.10154146,  0.22645565,  0.43585618,\n",
       "        0.69848216, -0.02963396,  0.16391036,  0.7509398 ,  0.25189466,\n",
       "        0.22271688, -0.01999728,  0.18897939,  0.13620617,  0.15621748,\n",
       "        0.13575237,  0.38513956,  0.42097093,  0.44987587,  0.26838789,\n",
       "        0.12976826,  0.81603584,  0.16415308,  0.18431247,  0.63880922,\n",
       "        0.43767143,  0.17014923,  0.32460624, -0.05137578,  0.78517017,\n",
       "        0.17481013,  0.38343737,  0.4488996 ,  0.14222262,  0.65376568,\n",
       "        0.48261974,  0.27188188,  0.00870977,  0.95134284,  0.66663973,\n",
       "        0.33816167,  0.23870179,  0.56519613,  0.29769772,  0.40233277,\n",
       "        0.55591467,  0.17959877,  0.58033688, -0.09419192,  0.26927852,\n",
       "        0.38961758,  0.07602584,  0.26419783,  0.26928311,  0.74327252,\n",
       "        0.71621985, -0.20659031,  0.64206223,  0.35933648,  0.07737597,\n",
       "        0.14413687,  0.11291261,  0.00401029,  0.28752942,  0.10819023,\n",
       "        0.63115463,  0.68898527,  0.50806944, -0.08474118,  0.39664812,\n",
       "        0.63694562,  0.08981884,  0.31127963,  0.44109549,  0.31541141,\n",
       "        1.25916219,  0.08608897,  0.10696323,  0.18936644,  0.19287569,\n",
       "       -0.10260051,  0.36688294,  0.13741646,  0.34048881,  0.28152375,\n",
       "        0.94554662,  0.37368729,  0.12863334,  0.75969323,  0.46930707,\n",
       "        0.36279138, -0.13888069,  0.24828245,  0.08373142,  0.40065338,\n",
       "        0.15696487, -0.07526754,  0.19531633,  0.53650719,  0.77506522,\n",
       "        0.54977492,  0.33471377,  0.32044271,  0.4264652 ,  0.24482991,\n",
       "        0.23770712,  0.21923196,  0.25715122,  0.34772429,  0.34036025,\n",
       "        0.53157929,  0.24249734,  0.08227557,  0.03765076,  0.74292303,\n",
       "        0.42736862,  0.44950484,  0.81055963,  0.11779814,  0.82745959,\n",
       "        0.16894907,  0.07280434,  0.19777617,  0.42795785, -0.22932135,\n",
       "        0.58831844,  0.22384617,  0.04035488,  0.72880433,  0.5923658 ,\n",
       "        0.12445806,  0.14928151, -0.18832546,  0.33118122,  0.20694956,\n",
       "        0.19806622,  0.60430901,  0.32299657,  0.17072074,  0.34375525,\n",
       "        0.28028892,  0.18315366,  0.17039775,  0.09706297,  0.09228696,\n",
       "        0.5427464 ,  0.5919061 ,  0.48296147,  0.30558288,  0.21576912,\n",
       "       -0.15467681,  0.30513228,  0.05571369,  0.60387252,  0.33866412,\n",
       "        0.01658529, -0.0655421 ,  0.15359008,  0.2016048 ,  0.14767807,\n",
       "        0.331187  ,  0.37700337,  0.26188959,  0.35426799,  0.17471638,\n",
       "        0.56571637,  0.05600683, -0.19886797,  0.34837163,  0.44695886,\n",
       "        0.41432457,  0.36079665,  0.38758309,  0.14086644,  0.04299187,\n",
       "        0.80484854,  0.97978105,  0.36813007,  0.50721824,  0.68478296,\n",
       "        0.16053074,  0.11592657,  0.24904977,  0.06319117,  0.12050377,\n",
       "        0.2865444 ,  0.18699912,  0.29789798,  0.57089974,  0.26407958,\n",
       "        0.40111545,  0.81945794,  0.13624151,  0.22962601,  0.08844119,\n",
       "        0.13813812,  0.22761979,  0.17387772,  0.51076079,  0.23316608,\n",
       "        0.056465  ,  0.1648887 ,  0.25767771,  0.1687152 ,  0.36748035,\n",
       "        0.33766301,  0.3120532 ,  0.45546032,  0.49561338,  0.82951491,\n",
       "        0.52600923,  0.2322384 ,  0.4466456 ,  0.37328036,  0.34631795,\n",
       "        0.0168595 ,  0.59742251,  0.18140809,  0.73408922, -0.04420097,\n",
       "        0.71432597,  0.27055002,  0.41053249,  0.23134225,  0.44025826,\n",
       "        0.64766869,  0.0589705 ,  0.14431773,  0.60791239,  0.13476189,\n",
       "        0.10027782,  0.25793639,  0.19056862,  0.65338348,  0.80456397,\n",
       "        0.38688129,  0.80795312, -0.03977561,  0.47348848,  0.05733765,\n",
       "        0.21156572,  0.68318399,  0.75846655,  0.36590596,  0.67669786,\n",
       "        0.12575523,  0.24926393, -0.18172527,  0.48364105,  0.35550728,\n",
       "        0.24796424,  0.20841006,  1.01114497,  0.21239255,  0.18793117,\n",
       "        0.18786171,  0.16036658,  0.31189913,  0.40015056,  0.06779036,\n",
       "        0.39088825,  0.11430731,  0.1816371 ,  0.16227647,  0.23133984,\n",
       "        0.47351435,  0.19087864,  0.14836873,  0.44219243, -0.06598719,\n",
       "        0.09571738,  0.41559157,  0.47919398,  0.29072911,  0.17910181,\n",
       "        0.49037286,  0.42025672,  0.70522861,  0.49907645,  0.07744374,\n",
       "       -0.00283557,  0.29052053,  0.3778477 ,  0.27365488,  0.1537045 ,\n",
       "        0.51119259,  0.02001015,  0.41999482,  0.5554247 ,  0.20476622,\n",
       "        0.6395887 ,  1.03693877,  0.65643418,  0.69469948,  0.38884814,\n",
       "        0.18884582,  0.46018982,  0.34713092,  0.284411  ,  0.59717013,\n",
       "        0.70243238,  0.10767365,  0.1278411 ,  0.63995753,  0.32455612,\n",
       "        0.8339381 ,  0.54279089,  0.12945532,  0.38093119,  0.08729867,\n",
       "       -0.18377145,  0.72012229,  0.2496891 ,  0.38520691,  0.06361432,\n",
       "        0.35165734,  0.26933635,  0.15549684,  0.31431695,  0.53739084,\n",
       "        0.32187302,  0.83185295,  0.45383103,  0.55074271, -0.00496335,\n",
       "        0.36418669,  0.54489021,  0.1526618 ,  0.38896049,  0.57877817,\n",
       "        0.32507577,  0.38072708,  0.64609566,  0.57136858,  0.1679166 ,\n",
       "        0.20404547,  0.17270359,  0.32597181,  0.70120509,  0.23640503,\n",
       "        0.46924972,  0.36518807,  0.69855589,  0.22347957,  0.13303509,\n",
       "        0.88874341,  0.70527164,  0.24951814,  0.23560172,  0.2662406 ,\n",
       "        0.04328322,  0.2713831 ,  0.38850531,  0.37456659,  0.16175636,\n",
       "        0.35703604,  0.26763017,  0.35957164,  0.46892578,  0.10315394,\n",
       "        0.29558107,  0.34957385,  0.77069512,  0.17590308,  0.10837458,\n",
       "        0.24508634,  0.18712707,  0.14004857,  0.23032144,  0.24039922,\n",
       "        0.66858344,  0.2349453 ,  0.13726119,  0.60802868,  0.9415345 ,\n",
       "        0.36557198,  0.61138324,  0.30942143,  0.75510012,  0.5394662 ,\n",
       "        0.55525675,  0.32121452,  0.16275091,  0.60881889,  0.65284065,\n",
       "        0.42270478,  0.48585139,  0.30041769,  0.22000829,  0.81112826,\n",
       "        0.13353269,  0.93063243,  0.13947883,  0.31386612,  0.36637183,\n",
       "        0.2560193 ,  0.3004969 ,  0.07602868])"
      ]
     },
     "execution_count": 22,
     "metadata": {},
     "output_type": "execute_result"
    }
   ],
   "source": [
    "predicted"
   ]
  },
  {
   "cell_type": "code",
   "execution_count": 20,
   "metadata": {
    "collapsed": false
   },
   "outputs": [
    {
     "data": {
      "text/plain": [
       "(768,)"
      ]
     },
     "execution_count": 20,
     "metadata": {},
     "output_type": "execute_result"
    }
   ],
   "source": [
    "y.shape"
   ]
  },
  {
   "cell_type": "code",
   "execution_count": null,
   "metadata": {
    "collapsed": true
   },
   "outputs": [],
   "source": []
  }
 ],
 "metadata": {
  "kernelspec": {
   "display_name": "Python 2",
   "language": "python",
   "name": "python2"
  },
  "language_info": {
   "codemirror_mode": {
    "name": "ipython",
    "version": 2
   },
   "file_extension": ".py",
   "mimetype": "text/x-python",
   "name": "python",
   "nbconvert_exporter": "python",
   "pygments_lexer": "ipython2",
   "version": "2.7.9"
  }
 },
 "nbformat": 4,
 "nbformat_minor": 0
}
