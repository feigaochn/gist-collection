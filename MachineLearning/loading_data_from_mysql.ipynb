{
 "metadata": {
  "name": "",
  "signature": "sha256:e03e1bac1d4bc4139e0b2e85ffcd374593ec41aa30631fadb9d6c0fcc991198f"
 },
 "nbformat": 3,
 "nbformat_minor": 0,
 "worksheets": [
  {
   "cells": [
    {
     "cell_type": "code",
     "collapsed": false,
     "input": [],
     "language": "python",
     "metadata": {},
     "outputs": []
    }
   ],
   "metadata": {}
  }
 ]
}