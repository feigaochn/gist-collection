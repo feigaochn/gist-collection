{
 "metadata": {
  "name": "",
  "signature": "sha256:67d44c8300adfe9c9a6d90cbf812cec33835c3ab6820632ff368d09e1d99df52"
 },
 "nbformat": 3,
 "nbformat_minor": 0,
 "worksheets": [
  {
   "cells": [
    {
     "cell_type": "code",
     "collapsed": false,
     "input": [
      "from data_header import *"
     ],
     "language": "python",
     "metadata": {},
     "outputs": [],
     "prompt_number": 1
    },
    {
     "cell_type": "heading",
     "level": 2,
     "metadata": {},
     "source": [
      "Connecting"
     ]
    },
    {
     "cell_type": "code",
     "collapsed": false,
     "input": [
      "engine = sa.create_engine(DB_URL, echo=True)"
     ],
     "language": "python",
     "metadata": {},
     "outputs": [],
     "prompt_number": 2
    },
    {
     "cell_type": "heading",
     "level": 2,
     "metadata": {},
     "source": [
      "Define and Create Tables"
     ]
    },
    {
     "cell_type": "code",
     "collapsed": false,
     "input": [
      "metadata = sa.MetaData()\n",
      "users = sa.Table('users', metadata,\n",
      "                 sa.Column('id', sa.Integer, primary_key=True),\n",
      "                 sa.Column('name',  sa.String(20)),\n",
      "                 sa.Column('fullname', sa.String(20)),\n",
      "                 )\n",
      "addresses = sa.Table('addresses', metadata,\n",
      "                     sa.Column('id', sa.Integer, primary_key=True),\n",
      "                     sa.Column('user_id', None, sa.ForeignKey('users.id')),\n",
      "                     sa.Column('email_address', sa.String(40), nullable=False)\n",
      "                     )"
     ],
     "language": "python",
     "metadata": {},
     "outputs": [],
     "prompt_number": 7
    },
    {
     "cell_type": "code",
     "collapsed": false,
     "input": [
      "metadata.create_all(engine)"
     ],
     "language": "python",
     "metadata": {},
     "outputs": [
      {
       "output_type": "stream",
       "stream": "stdout",
       "text": [
        "2015-02-02 10:14:59,044 INFO sqlalchemy.engine.base.Engine DESCRIBE `users`\n"
       ]
      },
      {
       "output_type": "stream",
       "stream": "stderr",
       "text": [
        "INFO:sqlalchemy.engine.base.Engine:DESCRIBE `users`\n"
       ]
      },
      {
       "output_type": "stream",
       "stream": "stdout",
       "text": [
        "2015-02-02 10:14:59,046 INFO sqlalchemy.engine.base.Engine ()\n"
       ]
      },
      {
       "output_type": "stream",
       "stream": "stderr",
       "text": [
        "INFO:sqlalchemy.engine.base.Engine:()\n"
       ]
      },
      {
       "output_type": "stream",
       "stream": "stdout",
       "text": [
        "2015-02-02 10:14:59,048 INFO sqlalchemy.engine.base.Engine ROLLBACK\n"
       ]
      },
      {
       "output_type": "stream",
       "stream": "stderr",
       "text": [
        "INFO:sqlalchemy.engine.base.Engine:ROLLBACK\n"
       ]
      },
      {
       "output_type": "stream",
       "stream": "stdout",
       "text": [
        "2015-02-02 10:14:59,050 INFO sqlalchemy.engine.base.Engine DESCRIBE `addresses`\n"
       ]
      },
      {
       "output_type": "stream",
       "stream": "stderr",
       "text": [
        "INFO:sqlalchemy.engine.base.Engine:DESCRIBE `addresses`\n"
       ]
      },
      {
       "output_type": "stream",
       "stream": "stdout",
       "text": [
        "2015-02-02 10:14:59,051 INFO sqlalchemy.engine.base.Engine ()\n"
       ]
      },
      {
       "output_type": "stream",
       "stream": "stderr",
       "text": [
        "INFO:sqlalchemy.engine.base.Engine:()\n"
       ]
      },
      {
       "output_type": "stream",
       "stream": "stdout",
       "text": [
        "2015-02-02 10:14:59,058 INFO sqlalchemy.engine.base.Engine ROLLBACK\n"
       ]
      },
      {
       "output_type": "stream",
       "stream": "stderr",
       "text": [
        "INFO:sqlalchemy.engine.base.Engine:ROLLBACK\n"
       ]
      },
      {
       "output_type": "stream",
       "stream": "stdout",
       "text": [
        "2015-02-02 10:14:59,061 INFO sqlalchemy.engine.base.Engine \n",
        "CREATE TABLE users (\n",
        "\tid INTEGER NOT NULL AUTO_INCREMENT, \n",
        "\tname VARCHAR(20), \n",
        "\tfullname VARCHAR(20), \n",
        "\tPRIMARY KEY (id)\n",
        ")\n",
        "\n",
        "\n"
       ]
      },
      {
       "output_type": "stream",
       "stream": "stderr",
       "text": [
        "INFO:sqlalchemy.engine.base.Engine:\n",
        "CREATE TABLE users (\n",
        "\tid INTEGER NOT NULL AUTO_INCREMENT, \n",
        "\tname VARCHAR(20), \n",
        "\tfullname VARCHAR(20), \n",
        "\tPRIMARY KEY (id)\n",
        ")\n",
        "\n",
        "\n"
       ]
      },
      {
       "output_type": "stream",
       "stream": "stdout",
       "text": [
        "2015-02-02 10:14:59,062 INFO sqlalchemy.engine.base.Engine ()\n"
       ]
      },
      {
       "output_type": "stream",
       "stream": "stderr",
       "text": [
        "INFO:sqlalchemy.engine.base.Engine:()\n"
       ]
      },
      {
       "output_type": "stream",
       "stream": "stdout",
       "text": [
        "2015-02-02 10:14:59,114 INFO sqlalchemy.engine.base.Engine COMMIT\n"
       ]
      },
      {
       "output_type": "stream",
       "stream": "stderr",
       "text": [
        "INFO:sqlalchemy.engine.base.Engine:COMMIT\n"
       ]
      },
      {
       "output_type": "stream",
       "stream": "stdout",
       "text": [
        "2015-02-02 10:14:59,116 INFO sqlalchemy.engine.base.Engine \n",
        "CREATE TABLE addresses (\n",
        "\tid INTEGER NOT NULL AUTO_INCREMENT, \n",
        "\tuser_id INTEGER, \n",
        "\temail_address VARCHAR(40) NOT NULL, \n",
        "\tPRIMARY KEY (id), \n",
        "\tFOREIGN KEY(user_id) REFERENCES users (id)\n",
        ")\n",
        "\n",
        "\n"
       ]
      },
      {
       "output_type": "stream",
       "stream": "stderr",
       "text": [
        "INFO:sqlalchemy.engine.base.Engine:\n",
        "CREATE TABLE addresses (\n",
        "\tid INTEGER NOT NULL AUTO_INCREMENT, \n",
        "\tuser_id INTEGER, \n",
        "\temail_address VARCHAR(40) NOT NULL, \n",
        "\tPRIMARY KEY (id), \n",
        "\tFOREIGN KEY(user_id) REFERENCES users (id)\n",
        ")\n",
        "\n",
        "\n"
       ]
      },
      {
       "output_type": "stream",
       "stream": "stdout",
       "text": [
        "2015-02-02 10:14:59,117 INFO sqlalchemy.engine.base.Engine ()\n"
       ]
      },
      {
       "output_type": "stream",
       "stream": "stderr",
       "text": [
        "INFO:sqlalchemy.engine.base.Engine:()\n"
       ]
      },
      {
       "output_type": "stream",
       "stream": "stdout",
       "text": [
        "2015-02-02 10:14:59,133 INFO sqlalchemy.engine.base.Engine COMMIT\n"
       ]
      },
      {
       "output_type": "stream",
       "stream": "stderr",
       "text": [
        "INFO:sqlalchemy.engine.base.Engine:COMMIT\n"
       ]
      }
     ],
     "prompt_number": 8
    },
    {
     "cell_type": "heading",
     "level": 2,
     "metadata": {},
     "source": [
      "Insert Expressions"
     ]
    },
    {
     "cell_type": "code",
     "collapsed": false,
     "input": [
      "ins = users.insert()\n",
      "print str(ins)\n",
      "ins = users.insert().values(name='jack', fullname='Jack Jones')\n",
      "print str(ins)\n",
      "print ins.compile().params"
     ],
     "language": "python",
     "metadata": {},
     "outputs": [
      {
       "output_type": "stream",
       "stream": "stdout",
       "text": [
        "INSERT INTO users (id, name, fullname) VALUES (:id, :name, :fullname)\n",
        "INSERT INTO users (name, fullname) VALUES (:name, :fullname)\n",
        "{'fullname': 'Jack Jones', 'name': 'jack'}\n"
       ]
      }
     ],
     "prompt_number": 9
    },
    {
     "cell_type": "heading",
     "level": 2,
     "metadata": {},
     "source": [
      "Executing"
     ]
    },
    {
     "cell_type": "code",
     "collapsed": false,
     "input": [
      "conn = engine.connect()\n",
      "print conn\n",
      "result = conn.execute(ins)"
     ],
     "language": "python",
     "metadata": {},
     "outputs": [
      {
       "output_type": "stream",
       "stream": "stdout",
       "text": [
        "<sqlalchemy.engine.base.Connection object at 0x108df77d0>\n",
        "2015-02-02 10:15:20,588 INFO sqlalchemy.engine.base.Engine INSERT INTO users (name, fullname) VALUES (%s, %s)\n"
       ]
      },
      {
       "output_type": "stream",
       "stream": "stderr",
       "text": [
        "INFO:sqlalchemy.engine.base.Engine:INSERT INTO users (name, fullname) VALUES (%s, %s)\n"
       ]
      },
      {
       "output_type": "stream",
       "stream": "stdout",
       "text": [
        "2015-02-02 10:15:20,589 INFO sqlalchemy.engine.base.Engine ('jack', 'Jack Jones')\n"
       ]
      },
      {
       "output_type": "stream",
       "stream": "stderr",
       "text": [
        "INFO:sqlalchemy.engine.base.Engine:('jack', 'Jack Jones')\n"
       ]
      },
      {
       "output_type": "stream",
       "stream": "stdout",
       "text": [
        "2015-02-02 10:15:20,597 INFO sqlalchemy.engine.base.Engine COMMIT\n"
       ]
      },
      {
       "output_type": "stream",
       "stream": "stderr",
       "text": [
        "INFO:sqlalchemy.engine.base.Engine:COMMIT\n"
       ]
      }
     ],
     "prompt_number": 10
    },
    {
     "cell_type": "code",
     "collapsed": false,
     "input": [
      "ins.bind = engine\n",
      "str(ins)"
     ],
     "language": "python",
     "metadata": {},
     "outputs": [
      {
       "metadata": {},
       "output_type": "pyout",
       "prompt_number": 11,
       "text": [
        "'INSERT INTO users (name, fullname) VALUES (%s, %s)'"
       ]
      }
     ],
     "prompt_number": 11
    },
    {
     "cell_type": "code",
     "collapsed": false,
     "input": [
      "result.inserted_primary_key"
     ],
     "language": "python",
     "metadata": {},
     "outputs": [
      {
       "metadata": {},
       "output_type": "pyout",
       "prompt_number": 15,
       "text": [
        "[1]"
       ]
      }
     ],
     "prompt_number": 15
    },
    {
     "cell_type": "code",
     "collapsed": false,
     "input": [
      "conn.execute(ins, id=2, name='wendy', fullname='Wendy Williams')"
     ],
     "language": "python",
     "metadata": {},
     "outputs": [
      {
       "output_type": "stream",
       "stream": "stdout",
       "text": [
        "2015-02-02 10:21:16,787 INFO sqlalchemy.engine.base.Engine INSERT INTO users (id, name, fullname) VALUES (%s, %s, %s)\n"
       ]
      },
      {
       "output_type": "stream",
       "stream": "stderr",
       "text": [
        "INFO:sqlalchemy.engine.base.Engine:INSERT INTO users (id, name, fullname) VALUES (%s, %s, %s)\n"
       ]
      },
      {
       "output_type": "stream",
       "stream": "stdout",
       "text": [
        "2015-02-02 10:21:16,788 INFO sqlalchemy.engine.base.Engine (2, 'wendy', 'Wendy Williams')\n"
       ]
      },
      {
       "output_type": "stream",
       "stream": "stderr",
       "text": [
        "INFO:sqlalchemy.engine.base.Engine:(2, 'wendy', 'Wendy Williams')\n"
       ]
      },
      {
       "output_type": "stream",
       "stream": "stdout",
       "text": [
        "2015-02-02 10:21:16,796 INFO sqlalchemy.engine.base.Engine COMMIT\n"
       ]
      },
      {
       "output_type": "stream",
       "stream": "stderr",
       "text": [
        "INFO:sqlalchemy.engine.base.Engine:COMMIT\n"
       ]
      },
      {
       "metadata": {},
       "output_type": "pyout",
       "prompt_number": 16,
       "text": [
        "<sqlalchemy.engine.result.ResultProxy at 0x108df2fd0>"
       ]
      }
     ],
     "prompt_number": 16
    },
    {
     "cell_type": "code",
     "collapsed": false,
     "input": [
      "conn.execute(addresses.insert(), [\n",
      "{'user_id': 1, 'email_address' : 'jack@yahoo.com'},\n",
      "{'user_id': 1, 'email_address' : 'jack@msn.com'},\n",
      "{'user_id': 2, 'email_address' : 'www@www.org'},\n",
      "{'user_id': 2, 'email_address' : 'wendy@aol.com'},\n",
      "])"
     ],
     "language": "python",
     "metadata": {},
     "outputs": [
      {
       "output_type": "stream",
       "stream": "stdout",
       "text": [
        "2015-02-02 10:23:09,705 INFO sqlalchemy.engine.base.Engine INSERT INTO addresses (user_id, email_address) VALUES (%s, %s)\n"
       ]
      },
      {
       "output_type": "stream",
       "stream": "stderr",
       "text": [
        "INFO:sqlalchemy.engine.base.Engine:INSERT INTO addresses (user_id, email_address) VALUES (%s, %s)\n"
       ]
      },
      {
       "output_type": "stream",
       "stream": "stdout",
       "text": [
        "2015-02-02 10:23:09,706 INFO sqlalchemy.engine.base.Engine ((1, 'jack@yahoo.com'), (1, 'jack@msn.com'), (2, 'www@www.org'), (2, 'wendy@aol.com'))\n"
       ]
      },
      {
       "output_type": "stream",
       "stream": "stderr",
       "text": [
        "INFO:sqlalchemy.engine.base.Engine:((1, 'jack@yahoo.com'), (1, 'jack@msn.com'), (2, 'www@www.org'), (2, 'wendy@aol.com'))\n"
       ]
      },
      {
       "output_type": "stream",
       "stream": "stdout",
       "text": [
        "2015-02-02 10:23:09,710 INFO sqlalchemy.engine.base.Engine COMMIT\n"
       ]
      },
      {
       "output_type": "stream",
       "stream": "stderr",
       "text": [
        "INFO:sqlalchemy.engine.base.Engine:COMMIT\n"
       ]
      },
      {
       "metadata": {},
       "output_type": "pyout",
       "prompt_number": 17,
       "text": [
        "<sqlalchemy.engine.result.ResultProxy at 0x108df7ad0>"
       ]
      }
     ],
     "prompt_number": 17
    },
    {
     "cell_type": "heading",
     "level": 2,
     "metadata": {},
     "source": [
      "Selecting"
     ]
    },
    {
     "cell_type": "code",
     "collapsed": false,
     "input": [
      "s = sa.sql.select([users])\n",
      "result = conn.execute(s)\n",
      "for row in result:\n",
      "    print row\n",
      "result = conn.execute(s)\n",
      "onerow = result.fetchone()\n",
      "print 'name:', row['name'], '; fullname:', row['fullname']\n",
      "for row in conn.execute(s):  \n",
      "    print \"name:\", row[users.c.name], \"; fullname:\", row[users.c.fullname]"
     ],
     "language": "python",
     "metadata": {},
     "outputs": [
      {
       "output_type": "stream",
       "stream": "stdout",
       "text": [
        "2015-02-02 10:28:05,227 INFO sqlalchemy.engine.base.Engine SELECT users.id, users.name, users.fullname \n",
        "FROM users\n"
       ]
      },
      {
       "output_type": "stream",
       "stream": "stderr",
       "text": [
        "INFO:sqlalchemy.engine.base.Engine:SELECT users.id, users.name, users.fullname \n",
        "FROM users\n"
       ]
      },
      {
       "output_type": "stream",
       "stream": "stdout",
       "text": [
        "2015-02-02 10:28:05,228 INFO sqlalchemy.engine.base.Engine ()\n"
       ]
      },
      {
       "output_type": "stream",
       "stream": "stderr",
       "text": [
        "INFO:sqlalchemy.engine.base.Engine:()\n"
       ]
      },
      {
       "output_type": "stream",
       "stream": "stdout",
       "text": [
        "name: wendy ; fullname: Wendy Williams\n"
       ]
      }
     ],
     "prompt_number": 23
    },
    {
     "cell_type": "code",
     "collapsed": false,
     "input": [
      "result.close()"
     ],
     "language": "python",
     "metadata": {},
     "outputs": [],
     "prompt_number": 25
    },
    {
     "cell_type": "code",
     "collapsed": false,
     "input": [
      "s = sa.sql.select([users.c.name, users.c.fullname])\n",
      "result = conn.execute(s)\n",
      "for row in result:\n",
      "    print row\n",
      "result.close()"
     ],
     "language": "python",
     "metadata": {},
     "outputs": [
      {
       "output_type": "stream",
       "stream": "stdout",
       "text": [
        "2015-02-02 10:32:07,781 INFO sqlalchemy.engine.base.Engine SELECT users.name, users.fullname \n",
        "FROM users\n"
       ]
      },
      {
       "output_type": "stream",
       "stream": "stderr",
       "text": [
        "INFO:sqlalchemy.engine.base.Engine:SELECT users.name, users.fullname \n",
        "FROM users\n"
       ]
      },
      {
       "output_type": "stream",
       "stream": "stdout",
       "text": [
        "2015-02-02 10:32:07,783 INFO sqlalchemy.engine.base.Engine ()\n"
       ]
      },
      {
       "output_type": "stream",
       "stream": "stderr",
       "text": [
        "INFO:sqlalchemy.engine.base.Engine:()\n"
       ]
      },
      {
       "output_type": "stream",
       "stream": "stdout",
       "text": [
        "('jack', 'Jack Jones')\n",
        "('wendy', 'Wendy Williams')\n"
       ]
      }
     ],
     "prompt_number": 27
    },
    {
     "cell_type": "code",
     "collapsed": false,
     "input": [
      "# Cartesian product\n",
      "for row in conn.execute(sa.sql.select([users, addresses])):\n",
      "    print row"
     ],
     "language": "python",
     "metadata": {},
     "outputs": [
      {
       "output_type": "stream",
       "stream": "stdout",
       "text": [
        "2015-02-02 10:34:09,477 INFO sqlalchemy.engine.base.Engine SELECT users.id, users.name, users.fullname, addresses.id, addresses.user_id, addresses.email_address \n",
        "FROM users, addresses\n"
       ]
      },
      {
       "output_type": "stream",
       "stream": "stderr",
       "text": [
        "INFO:sqlalchemy.engine.base.Engine:SELECT users.id, users.name, users.fullname, addresses.id, addresses.user_id, addresses.email_address \n",
        "FROM users, addresses\n"
       ]
      },
      {
       "output_type": "stream",
       "stream": "stdout",
       "text": [
        "2015-02-02 10:34:09,479 INFO sqlalchemy.engine.base.Engine ()\n"
       ]
      },
      {
       "output_type": "stream",
       "stream": "stderr",
       "text": [
        "INFO:sqlalchemy.engine.base.Engine:()\n"
       ]
      },
      {
       "output_type": "stream",
       "stream": "stdout",
       "text": [
        "(1, 'jack', 'Jack Jones', 1, 1, 'jack@yahoo.com')\n",
        "(2, 'wendy', 'Wendy Williams', 1, 1, 'jack@yahoo.com')\n",
        "(1, 'jack', 'Jack Jones', 2, 1, 'jack@msn.com')\n",
        "(2, 'wendy', 'Wendy Williams', 2, 1, 'jack@msn.com')\n",
        "(1, 'jack', 'Jack Jones', 3, 2, 'www@www.org')\n",
        "(2, 'wendy', 'Wendy Williams', 3, 2, 'www@www.org')\n",
        "(1, 'jack', 'Jack Jones', 4, 2, 'wendy@aol.com')\n",
        "(2, 'wendy', 'Wendy Williams', 4, 2, 'wendy@aol.com')\n"
       ]
      }
     ],
     "prompt_number": 28
    },
    {
     "cell_type": "code",
     "collapsed": false,
     "input": [
      "# where\n",
      "s = sa.sql.select([users, addresses]).where(users.c.id == addresses.c.user_id)\n",
      "for row in conn.execute(s):\n",
      "    print row"
     ],
     "language": "python",
     "metadata": {},
     "outputs": [
      {
       "output_type": "stream",
       "stream": "stdout",
       "text": [
        "2015-02-02 10:37:01,434 INFO sqlalchemy.engine.base.Engine SELECT users.id, users.name, users.fullname, addresses.id, addresses.user_id, addresses.email_address \n",
        "FROM users, addresses \n",
        "WHERE users.id = addresses.user_id\n"
       ]
      },
      {
       "output_type": "stream",
       "stream": "stderr",
       "text": [
        "INFO:sqlalchemy.engine.base.Engine:SELECT users.id, users.name, users.fullname, addresses.id, addresses.user_id, addresses.email_address \n",
        "FROM users, addresses \n",
        "WHERE users.id = addresses.user_id\n"
       ]
      },
      {
       "output_type": "stream",
       "stream": "stdout",
       "text": [
        "2015-02-02 10:37:01,436 INFO sqlalchemy.engine.base.Engine ()\n"
       ]
      },
      {
       "output_type": "stream",
       "stream": "stderr",
       "text": [
        "INFO:sqlalchemy.engine.base.Engine:()\n"
       ]
      },
      {
       "output_type": "stream",
       "stream": "stdout",
       "text": [
        "(1, 'jack', 'Jack Jones', 1, 1, 'jack@yahoo.com')\n",
        "(1, 'jack', 'Jack Jones', 2, 1, 'jack@msn.com')\n",
        "(2, 'wendy', 'Wendy Williams', 3, 2, 'www@www.org')\n",
        "(2, 'wendy', 'Wendy Williams', 4, 2, 'wendy@aol.com')\n"
       ]
      }
     ],
     "prompt_number": 29
    },
    {
     "cell_type": "heading",
     "level": 2,
     "metadata": {},
     "source": [
      "Operators"
     ]
    },
    {
     "cell_type": "code",
     "collapsed": false,
     "input": [
      "print users.c.id == addresses.c.user_id\n",
      "print users.c.id == 7\n",
      "print (users.c.id == 7).compile().params\n",
      "print 'fred' > users.c.name\n",
      "print users.c.id + addresses.c.id\n",
      "print users.c.name + addresses.c.email_address\n",
      "print (users.c.name + addresses.c.email_address).compile(bind=engine)\n",
      "print users.c.name.op('tiddlywinks')('foo')"
     ],
     "language": "python",
     "metadata": {},
     "outputs": [
      {
       "output_type": "stream",
       "stream": "stdout",
       "text": [
        "users.id = addresses.user_id\n",
        "users.id = :id_1\n",
        "{u'id_1': 7}\n",
        "users.name < :name_1\n",
        "users.id + addresses.id\n",
        "users.name || addresses.email_address\n",
        "concat(users.name, addresses.email_address)\n",
        "users.name tiddlywinks :name_1\n"
       ]
      }
     ],
     "prompt_number": 39
    },
    {
     "cell_type": "heading",
     "level": 2,
     "metadata": {},
     "source": [
      "Conjunctions"
     ]
    },
    {
     "cell_type": "code",
     "collapsed": false,
     "input": [
      "print sa.sql.and_(users.c.name.like('j%'),\n",
      "                  users.c.id == addresses.c.user_id,\n",
      "                  sa.sql.or_(addresses.c.email_address == 'wendy@aol.com',\n",
      "                      addresses.c.email_address == 'jack@yahoo.com'\n",
      "                      ),\n",
      "                  sa.sql.not_(users.c.id > 5)\n",
      "                  )"
     ],
     "language": "python",
     "metadata": {},
     "outputs": [
      {
       "output_type": "stream",
       "stream": "stdout",
       "text": [
        "users.name LIKE :name_1 AND users.id = addresses.user_id AND (addresses.email_address = :email_address_1 OR addresses.email_address = :email_address_2) AND users.id <= :id_1\n"
       ]
      }
     ],
     "prompt_number": 42
    },
    {
     "cell_type": "code",
     "collapsed": false,
     "input": [
      "print users.c.name.like('j%') & (users.c.id == addresses.c.user_id) &  \\\n",
      "    (\n",
      "      (addresses.c.email_address == 'wendy@aol.com') | \\\n",
      "      (addresses.c.email_address == 'jack@yahoo.com')\n",
      "    ) \\\n",
      "    & ~(users.c.id>5) "
     ],
     "language": "python",
     "metadata": {},
     "outputs": [
      {
       "output_type": "stream",
       "stream": "stdout",
       "text": [
        "users.name LIKE :name_1 AND users.id = addresses.user_id AND (addresses.email_address = :email_address_1 OR addresses.email_address = :email_address_2) AND users.id <= :id_1\n"
       ]
      }
     ],
     "prompt_number": 43
    },
    {
     "cell_type": "code",
     "collapsed": false,
     "input": [
      "s = sa.sql.select([(users.c.fullname + ', ' + \n",
      "                    addresses.c.email_address).label('title')]).\\\n",
      "where(\n",
      "sa.sql.and_(\n",
      "users.c.id == addresses.c.user_id,\n",
      "users.c.name.between('m', 'z'),\n",
      "sa.sql.or_(\n",
      "addresses.c.email_address.like(\"%@aol.com\"),\n",
      "addresses.c.email_address.like(\"%@msn.com\")\n",
      ")\n",
      ")\n",
      ")\n",
      "conn.execute(s).fetchall()"
     ],
     "language": "python",
     "metadata": {},
     "outputs": [
      {
       "output_type": "stream",
       "stream": "stdout",
       "text": [
        "2015-02-02 10:52:37,507 INFO sqlalchemy.engine.base.Engine SELECT concat(concat(users.fullname, %s), addresses.email_address) AS title \n",
        "FROM users, addresses \n",
        "WHERE users.id = addresses.user_id AND users.name BETWEEN %s AND %s AND (addresses.email_address LIKE %s OR addresses.email_address LIKE %s)\n"
       ]
      },
      {
       "output_type": "stream",
       "stream": "stderr",
       "text": [
        "INFO:sqlalchemy.engine.base.Engine:SELECT concat(concat(users.fullname, %s), addresses.email_address) AS title \n",
        "FROM users, addresses \n",
        "WHERE users.id = addresses.user_id AND users.name BETWEEN %s AND %s AND (addresses.email_address LIKE %s OR addresses.email_address LIKE %s)\n"
       ]
      },
      {
       "output_type": "stream",
       "stream": "stdout",
       "text": [
        "2015-02-02 10:52:37,508 INFO sqlalchemy.engine.base.Engine (', ', 'm', 'z', '%@aol.com', '%@msn.com')\n"
       ]
      },
      {
       "output_type": "stream",
       "stream": "stderr",
       "text": [
        "INFO:sqlalchemy.engine.base.Engine:(', ', 'm', 'z', '%@aol.com', '%@msn.com')\n"
       ]
      },
      {
       "metadata": {},
       "output_type": "pyout",
       "prompt_number": 44,
       "text": [
        "[('Wendy Williams, wendy@aol.com',)]"
       ]
      }
     ],
     "prompt_number": 44
    },
    {
     "cell_type": "code",
     "collapsed": false,
     "input": [
      "s = sa.sql.select([(users.c.fullname +\n",
      "              \", \" + addresses.c.email_address).\\\n",
      "               label('title')]).\\\n",
      "       where(users.c.id == addresses.c.user_id).\\\n",
      "       where(users.c.name.between('m', 'z')).\\\n",
      "       where(\n",
      "              sa.sql.or_(\n",
      "                 addresses.c.email_address.like('%@aol.com'),\n",
      "                 addresses.c.email_address.like('%@msn.com')\n",
      "              )\n",
      "       )\n",
      "conn.execute(s).fetchall() "
     ],
     "language": "python",
     "metadata": {},
     "outputs": [
      {
       "output_type": "stream",
       "stream": "stdout",
       "text": [
        "2015-02-02 10:54:55,109 INFO sqlalchemy.engine.base.Engine SELECT concat(concat(users.fullname, %s), addresses.email_address) AS title \n",
        "FROM users, addresses \n",
        "WHERE users.id = addresses.user_id AND users.name BETWEEN %s AND %s AND (addresses.email_address LIKE %s OR addresses.email_address LIKE %s)\n"
       ]
      },
      {
       "output_type": "stream",
       "stream": "stderr",
       "text": [
        "INFO:sqlalchemy.engine.base.Engine:SELECT concat(concat(users.fullname, %s), addresses.email_address) AS title \n",
        "FROM users, addresses \n",
        "WHERE users.id = addresses.user_id AND users.name BETWEEN %s AND %s AND (addresses.email_address LIKE %s OR addresses.email_address LIKE %s)\n"
       ]
      },
      {
       "output_type": "stream",
       "stream": "stdout",
       "text": [
        "2015-02-02 10:54:55,111 INFO sqlalchemy.engine.base.Engine (', ', 'm', 'z', '%@aol.com', '%@msn.com')\n"
       ]
      },
      {
       "output_type": "stream",
       "stream": "stderr",
       "text": [
        "INFO:sqlalchemy.engine.base.Engine:(', ', 'm', 'z', '%@aol.com', '%@msn.com')\n"
       ]
      },
      {
       "metadata": {},
       "output_type": "pyout",
       "prompt_number": 47,
       "text": [
        "[('Wendy Williams, wendy@aol.com',)]"
       ]
      }
     ],
     "prompt_number": 47
    },
    {
     "cell_type": "heading",
     "level": 3,
     "metadata": {},
     "source": [
      "Using More Specific Text with table(), literal_column(), and column()"
     ]
    },
    {
     "cell_type": "code",
     "collapsed": false,
     "input": [
      "from sqlalchemy import select, and_, text, String\n",
      "from sqlalchemy.sql import table, literal_column\n",
      "s = select([\n",
      "literal_column(\"users.fullname\", String) + ', ' +\n",
      "literal_column(\"addresses.email_address\").label(\"title\")\n",
      "]).where(\n",
      "and_(\n",
      "literal_column(\"users.id\") == literal_column(\"addresses.user_id\"),\n",
      "text(\"users.name BETWEEN 'm' AND 'z'\"),\n",
      "text(\"(addresses.email_address LIKE :x OR addresses.email_address LIKE :y)\")\n",
      ")\n",
      ").select_from(table(\"users\")).select_from(table(\"addresses\"))\n",
      "conn.execute(s, x='%@aol.com', y='%@msn.com').fetchall()"
     ],
     "language": "python",
     "metadata": {},
     "outputs": [
      {
       "output_type": "stream",
       "stream": "stdout",
       "text": [
        "2015-02-02 11:01:54,023 INFO sqlalchemy.engine.base.Engine SELECT concat(concat(users.fullname, %s), addresses.email_address) AS anon_1 \n",
        "FROM users, addresses \n",
        "WHERE users.id = addresses.user_id AND users.name BETWEEN 'm' AND 'z' AND (addresses.email_address LIKE %s OR addresses.email_address LIKE %s)\n"
       ]
      },
      {
       "output_type": "stream",
       "stream": "stderr",
       "text": [
        "INFO:sqlalchemy.engine.base.Engine:SELECT concat(concat(users.fullname, %s), addresses.email_address) AS anon_1 \n",
        "FROM users, addresses \n",
        "WHERE users.id = addresses.user_id AND users.name BETWEEN 'm' AND 'z' AND (addresses.email_address LIKE %s OR addresses.email_address LIKE %s)\n"
       ]
      },
      {
       "output_type": "stream",
       "stream": "stdout",
       "text": [
        "2015-02-02 11:01:54,025 INFO sqlalchemy.engine.base.Engine (', ', '%@aol.com', '%@msn.com')\n"
       ]
      },
      {
       "output_type": "stream",
       "stream": "stderr",
       "text": [
        "INFO:sqlalchemy.engine.base.Engine:(', ', '%@aol.com', '%@msn.com')\n"
       ]
      },
      {
       "metadata": {},
       "output_type": "pyout",
       "prompt_number": 51,
       "text": [
        "[('Wendy Williams, wendy@aol.com',)]"
       ]
      }
     ],
     "prompt_number": 51
    },
    {
     "cell_type": "markdown",
     "metadata": {},
     "source": [
      "### Ordering or Grouping by a Label"
     ]
    },
    {
     "cell_type": "code",
     "collapsed": false,
     "input": [
      "stmt = sa.sql.select([\n",
      "addresses.c.user_id,\n",
      "sa.func.count(addresses.c.id).label('num_addresses')]\n",
      ").order_by(\"num_addresses\")\n",
      "conn.execute(stmt).fetchall()"
     ],
     "language": "python",
     "metadata": {},
     "outputs": [
      {
       "output_type": "stream",
       "stream": "stdout",
       "text": [
        "2015-02-02 11:59:40,304 INFO sqlalchemy.engine.base.Engine SELECT addresses.user_id, count(addresses.id) AS num_addresses \n",
        "FROM addresses ORDER BY num_addresses\n"
       ]
      },
      {
       "output_type": "stream",
       "stream": "stderr",
       "text": [
        "INFO:sqlalchemy.engine.base.Engine:SELECT addresses.user_id, count(addresses.id) AS num_addresses \n",
        "FROM addresses ORDER BY num_addresses\n"
       ]
      },
      {
       "output_type": "stream",
       "stream": "stdout",
       "text": [
        "2015-02-02 11:59:40,306 INFO sqlalchemy.engine.base.Engine ()\n"
       ]
      },
      {
       "output_type": "stream",
       "stream": "stderr",
       "text": [
        "INFO:sqlalchemy.engine.base.Engine:()\n"
       ]
      },
      {
       "metadata": {},
       "output_type": "pyout",
       "prompt_number": 53,
       "text": [
        "[(1, 4)]"
       ]
      }
     ],
     "prompt_number": 53
    },
    {
     "cell_type": "markdown",
     "metadata": {},
     "source": [
      "## Using Aliases"
     ]
    },
    {
     "cell_type": "code",
     "collapsed": false,
     "input": [
      "a1, a2 = addresses.alias(), addresses.alias()\n",
      "s = sa.sql.select([users, addresses]).where(sa.sql.and_(\n",
      "    users.c.id == a1.c.user_id,\n",
      "    users.c.id == a2.c.user_id,\n",
      "    a1.c.email_address == 'jack@msn.com',\n",
      "    a2.c.email_address == 'jack@yahoo.com'))\n",
      "conn.execute(s).fetchall()"
     ],
     "language": "python",
     "metadata": {},
     "outputs": [
      {
       "output_type": "stream",
       "stream": "stdout",
       "text": [
        "2015-02-02 12:04:49,863 INFO sqlalchemy.engine.base.Engine SELECT users.id, users.name, users.fullname, addresses.id, addresses.user_id, addresses.email_address \n",
        "FROM users, addresses, addresses AS addresses_1, addresses AS addresses_2 \n",
        "WHERE users.id = addresses_1.user_id AND users.id = addresses_2.user_id AND addresses_1.email_address = %s AND addresses_2.email_address = %s\n"
       ]
      },
      {
       "output_type": "stream",
       "stream": "stderr",
       "text": [
        "INFO:sqlalchemy.engine.base.Engine:SELECT users.id, users.name, users.fullname, addresses.id, addresses.user_id, addresses.email_address \n",
        "FROM users, addresses, addresses AS addresses_1, addresses AS addresses_2 \n",
        "WHERE users.id = addresses_1.user_id AND users.id = addresses_2.user_id AND addresses_1.email_address = %s AND addresses_2.email_address = %s\n"
       ]
      },
      {
       "output_type": "stream",
       "stream": "stdout",
       "text": [
        "2015-02-02 12:04:49,865 INFO sqlalchemy.engine.base.Engine ('jack@msn.com', 'jack@yahoo.com')\n"
       ]
      },
      {
       "output_type": "stream",
       "stream": "stderr",
       "text": [
        "INFO:sqlalchemy.engine.base.Engine:('jack@msn.com', 'jack@yahoo.com')\n"
       ]
      },
      {
       "metadata": {},
       "output_type": "pyout",
       "prompt_number": 55,
       "text": [
        "[(1, 'jack', 'Jack Jones', 1, 1, 'jack@yahoo.com'),\n",
        " (1, 'jack', 'Jack Jones', 2, 1, 'jack@msn.com'),\n",
        " (1, 'jack', 'Jack Jones', 3, 2, 'www@www.org'),\n",
        " (1, 'jack', 'Jack Jones', 4, 2, 'wendy@aol.com')]"
       ]
      }
     ],
     "prompt_number": 55
    },
    {
     "cell_type": "markdown",
     "metadata": {},
     "source": [
      "## Using Joins"
     ]
    },
    {
     "cell_type": "code",
     "collapsed": false,
     "input": [
      "print users.join(addresses)"
     ],
     "language": "python",
     "metadata": {},
     "outputs": [
      {
       "output_type": "stream",
       "stream": "stdout",
       "text": [
        "users JOIN addresses ON users.id = addresses.user_id\n"
       ]
      }
     ],
     "prompt_number": 59
    },
    {
     "cell_type": "code",
     "collapsed": false,
     "input": [
      "s = select([users]).select_from(\n",
      "users.join(addresses,\n",
      "           addresses.c.email_address.like(\n",
      "users.c.name + '%')))\n",
      "conn.execute(s).fetchall()"
     ],
     "language": "python",
     "metadata": {},
     "outputs": [
      {
       "output_type": "stream",
       "stream": "stdout",
       "text": [
        "2015-02-02 12:09:19,253 INFO sqlalchemy.engine.base.Engine SELECT users.id, users.name, users.fullname \n",
        "FROM users INNER JOIN addresses ON addresses.email_address LIKE (concat(users.name, %s))\n"
       ]
      },
      {
       "output_type": "stream",
       "stream": "stderr",
       "text": [
        "INFO:sqlalchemy.engine.base.Engine:SELECT users.id, users.name, users.fullname \n",
        "FROM users INNER JOIN addresses ON addresses.email_address LIKE (concat(users.name, %s))\n"
       ]
      },
      {
       "output_type": "stream",
       "stream": "stdout",
       "text": [
        "2015-02-02 12:09:19,255 INFO sqlalchemy.engine.base.Engine ('%',)\n"
       ]
      },
      {
       "output_type": "stream",
       "stream": "stderr",
       "text": [
        "INFO:sqlalchemy.engine.base.Engine:('%',)\n"
       ]
      },
      {
       "metadata": {},
       "output_type": "pyout",
       "prompt_number": 61,
       "text": [
        "[(1, 'jack', 'Jack Jones'),\n",
        " (1, 'jack', 'Jack Jones'),\n",
        " (2, 'wendy', 'Wendy Williams')]"
       ]
      }
     ],
     "prompt_number": 61
    },
    {
     "cell_type": "code",
     "collapsed": false,
     "input": [
      "s = select([users, addresses]).select_from(users.outerjoin(addresses))\n",
      "print s\n",
      "conn.execute(s).fetchall()"
     ],
     "language": "python",
     "metadata": {},
     "outputs": [
      {
       "output_type": "stream",
       "stream": "stdout",
       "text": [
        "SELECT users.id, users.name, users.fullname, addresses.id, addresses.user_id, addresses.email_address \n",
        "FROM users LEFT OUTER JOIN addresses ON users.id = addresses.user_id\n",
        "2015-02-02 12:10:22,806 INFO sqlalchemy.engine.base.Engine SELECT users.id, users.name, users.fullname, addresses.id, addresses.user_id, addresses.email_address \n",
        "FROM users LEFT OUTER JOIN addresses ON users.id = addresses.user_id\n"
       ]
      },
      {
       "output_type": "stream",
       "stream": "stderr",
       "text": [
        "INFO:sqlalchemy.engine.base.Engine:SELECT users.id, users.name, users.fullname, addresses.id, addresses.user_id, addresses.email_address \n",
        "FROM users LEFT OUTER JOIN addresses ON users.id = addresses.user_id\n"
       ]
      },
      {
       "output_type": "stream",
       "stream": "stdout",
       "text": [
        "2015-02-02 12:10:22,807 INFO sqlalchemy.engine.base.Engine ()\n"
       ]
      },
      {
       "output_type": "stream",
       "stream": "stderr",
       "text": [
        "INFO:sqlalchemy.engine.base.Engine:()\n"
       ]
      },
      {
       "metadata": {},
       "output_type": "pyout",
       "prompt_number": 63,
       "text": [
        "[(1, 'jack', 'Jack Jones', 1, 1, 'jack@yahoo.com'),\n",
        " (1, 'jack', 'Jack Jones', 2, 1, 'jack@msn.com'),\n",
        " (2, 'wendy', 'Wendy Williams', 3, 2, 'www@www.org'),\n",
        " (2, 'wendy', 'Wendy Williams', 4, 2, 'wendy@aol.com')]"
       ]
      }
     ],
     "prompt_number": 63
    },
    {
     "cell_type": "markdown",
     "metadata": {},
     "source": [
      "## Limit and Offset"
     ]
    },
    {
     "cell_type": "code",
     "collapsed": false,
     "input": [
      "print conn.execute(select([users, addresses]).\\\n",
      "    select_from(users.outerjoin(addresses))).fetchall()\n",
      "stmt = select([users, addresses]).\\\n",
      "    select_from(users.outerjoin(addresses)).\\\n",
      "    limit(2).offset(1)\n",
      "print conn.execute(stmt).fetchall()"
     ],
     "language": "python",
     "metadata": {},
     "outputs": [
      {
       "output_type": "stream",
       "stream": "stdout",
       "text": [
        "2015-02-02 12:19:16,505 INFO sqlalchemy.engine.base.Engine SELECT users.id, users.name, users.fullname, addresses.id, addresses.user_id, addresses.email_address \n",
        "FROM users LEFT OUTER JOIN addresses ON users.id = addresses.user_id\n"
       ]
      },
      {
       "output_type": "stream",
       "stream": "stderr",
       "text": [
        "INFO:sqlalchemy.engine.base.Engine:SELECT users.id, users.name, users.fullname, addresses.id, addresses.user_id, addresses.email_address \n",
        "FROM users LEFT OUTER JOIN addresses ON users.id = addresses.user_id\n"
       ]
      },
      {
       "output_type": "stream",
       "stream": "stdout",
       "text": [
        "2015-02-02 12:19:16,506 INFO sqlalchemy.engine.base.Engine ()\n"
       ]
      },
      {
       "output_type": "stream",
       "stream": "stderr",
       "text": [
        "INFO:sqlalchemy.engine.base.Engine:()\n"
       ]
      },
      {
       "output_type": "stream",
       "stream": "stdout",
       "text": [
        "[(1, 'jack', 'Jack Jones', 1, 1, 'jack@yahoo.com'), (1, 'jack', 'Jack Jones', 2, 1, 'jack@msn.com'), (2, 'wendy', 'Wendy Williams', 3, 2, 'www@www.org'), (2, 'wendy', 'Wendy Williams', 4, 2, 'wendy@aol.com')]\n",
        "2015-02-02 12:19:16,510 INFO sqlalchemy.engine.base.Engine SELECT users.id, users.name, users.fullname, addresses.id, addresses.user_id, addresses.email_address \n",
        "FROM users LEFT OUTER JOIN addresses ON users.id = addresses.user_id \n",
        " LIMIT %s, %s\n"
       ]
      },
      {
       "output_type": "stream",
       "stream": "stderr",
       "text": [
        "INFO:sqlalchemy.engine.base.Engine:SELECT users.id, users.name, users.fullname, addresses.id, addresses.user_id, addresses.email_address \n",
        "FROM users LEFT OUTER JOIN addresses ON users.id = addresses.user_id \n",
        " LIMIT %s, %s\n"
       ]
      },
      {
       "output_type": "stream",
       "stream": "stdout",
       "text": [
        "2015-02-02 12:19:16,512 INFO sqlalchemy.engine.base.Engine (1, 2)\n"
       ]
      },
      {
       "output_type": "stream",
       "stream": "stderr",
       "text": [
        "INFO:sqlalchemy.engine.base.Engine:(1, 2)\n"
       ]
      },
      {
       "output_type": "stream",
       "stream": "stdout",
       "text": [
        "[(1, 'jack', 'Jack Jones', 2, 1, 'jack@msn.com'), (2, 'wendy', 'Wendy Williams', 3, 2, 'www@www.org')]\n"
       ]
      }
     ],
     "prompt_number": 67
    },
    {
     "cell_type": "markdown",
     "metadata": {},
     "source": [
      "## Inserts, Updates and Deletes"
     ]
    },
    {
     "cell_type": "code",
     "collapsed": false,
     "input": [
      "conn.execute(users.update().values(fullname='Fullname: ' + users.c.fullname))"
     ],
     "language": "python",
     "metadata": {},
     "outputs": [
      {
       "output_type": "stream",
       "stream": "stdout",
       "text": [
        "2015-02-02 12:21:00,442 INFO sqlalchemy.engine.base.Engine UPDATE users SET fullname=(concat(%s, users.fullname))\n"
       ]
      },
      {
       "output_type": "stream",
       "stream": "stderr",
       "text": [
        "INFO:sqlalchemy.engine.base.Engine:UPDATE users SET fullname=(concat(%s, users.fullname))\n"
       ]
      },
      {
       "output_type": "stream",
       "stream": "stdout",
       "text": [
        "2015-02-02 12:21:00,444 INFO sqlalchemy.engine.base.Engine ('Fullname: ',)\n"
       ]
      },
      {
       "output_type": "stream",
       "stream": "stderr",
       "text": [
        "INFO:sqlalchemy.engine.base.Engine:('Fullname: ',)\n"
       ]
      },
      {
       "output_type": "stream",
       "stream": "stdout",
       "text": [
        "2015-02-02 12:21:00,446 INFO sqlalchemy.engine.base.Engine COMMIT\n"
       ]
      },
      {
       "output_type": "stream",
       "stream": "stderr",
       "text": [
        "INFO:sqlalchemy.engine.base.Engine:COMMIT\n"
       ]
      },
      {
       "metadata": {},
       "output_type": "pyout",
       "prompt_number": 68,
       "text": [
        "<sqlalchemy.engine.result.ResultProxy at 0x108e73110>"
       ]
      }
     ],
     "prompt_number": 68
    },
    {
     "cell_type": "code",
     "collapsed": false,
     "input": [
      "print conn.execute(select([users])).fetchall()"
     ],
     "language": "python",
     "metadata": {},
     "outputs": [
      {
       "output_type": "stream",
       "stream": "stdout",
       "text": [
        "2015-02-02 12:21:59,996 INFO sqlalchemy.engine.base.Engine SELECT users.id, users.name, users.fullname \n",
        "FROM users\n"
       ]
      },
      {
       "output_type": "stream",
       "stream": "stderr",
       "text": [
        "INFO:sqlalchemy.engine.base.Engine:SELECT users.id, users.name, users.fullname \n",
        "FROM users\n"
       ]
      },
      {
       "output_type": "stream",
       "stream": "stdout",
       "text": [
        "2015-02-02 12:21:59,998 INFO sqlalchemy.engine.base.Engine ()\n"
       ]
      },
      {
       "output_type": "stream",
       "stream": "stderr",
       "text": [
        "INFO:sqlalchemy.engine.base.Engine:()\n"
       ]
      },
      {
       "output_type": "stream",
       "stream": "stdout",
       "text": [
        "[(1, 'jack', 'Fullname: Jack Jones'), (2, 'wendy', 'Fullname: Wendy Will')]\n"
       ]
      }
     ],
     "prompt_number": 70
    },
    {
     "cell_type": "code",
     "collapsed": false,
     "input": [],
     "language": "python",
     "metadata": {},
     "outputs": []
    }
   ],
   "metadata": {}
  }
 ]
}