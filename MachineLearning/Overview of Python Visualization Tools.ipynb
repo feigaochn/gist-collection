{
 "metadata": {
  "name": "",
  "signature": "sha256:cb2feaa0b44f886c9c197e9b44c3116154af7f9937c51a4fbb535a8be7e8d7c1"
 },
 "nbformat": 3,
 "nbformat_minor": 0,
 "worksheets": [
  {
   "cells": [
    {
     "cell_type": "markdown",
     "metadata": {},
     "source": [
      "# Overview of Python Visualization Tools\n",
      "\n",
      "http://pbpython.com/visualization-tools-1.html"
     ]
    },
    {
     "cell_type": "code",
     "collapsed": false,
     "input": [
      "import pandas as pd\n",
      "import seaborn as sns\n",
      "import matplotlib.pyplot as plt\n",
      "%matplotlib inline"
     ],
     "language": "python",
     "metadata": {},
     "outputs": []
    },
    {
     "cell_type": "code",
     "collapsed": false,
     "input": [
      "budget = pd.read_csv(\"mn-budget-detail-2014.csv\")\n",
      "budget = budget.sort('amount', ascending=False)[:20]\n",
      "len(budget)"
     ],
     "language": "python",
     "metadata": {},
     "outputs": []
    },
    {
     "cell_type": "code",
     "collapsed": false,
     "input": [
      "pd.options.display.mpl_style = 'default'\n",
      "budget_plot = budget.plot(kind='bar', \n",
      "                          #x=budget['detail'], \n",
      "                          title='MN Capital Budget - 2014',\n",
      "                          legend=False)"
     ],
     "language": "python",
     "metadata": {},
     "outputs": []
    },
    {
     "cell_type": "code",
     "collapsed": false,
     "input": [
      "#sns.set_style('darkgrid')\n",
      "sns_bar_plot = sns.barplot(x=budget['detail'],\n",
      "                           y=budget['amount'],\n",
      "                           palette='muted',\n",
      "                           x_order=budget['detail'].tolist())\n",
      "plt.xticks(rotation=90)\n",
      "plt.show()"
     ],
     "language": "python",
     "metadata": {},
     "outputs": []
    },
    {
     "cell_type": "code",
     "collapsed": false,
     "input": [
      "import ggplot import *\n",
      "p = ggplot(budget, aes(x=\"detail\",y=\"amount\")) + \\\n",
      "    geom_bar(stat=\"bar\", labels=budget[\"detail\"].tolist()) +\\\n",
      "    ggtitle(\"MN Capital Budget - 2014\") + \\\n",
      "    xlab(\"Spending Detail\") +  \\\n",
      "    ylab(\"Amount\") + scale_y_continuous(labels='millions') + \\\n",
      "    theme(axis_text_x=element_text(angle=90))\n",
      "print p\n",
      "# ggsave(p, \"mn-budget-capital-ggplot.png\")"
     ],
     "language": "python",
     "metadata": {},
     "outputs": []
    },
    {
     "cell_type": "code",
     "collapsed": false,
     "input": [
      "from bokeh.charts import Bar\n",
      "\n",
      "details = budget[\"detail\"].values.tolist()\n",
      "amount = list(budget[\"amount\"].astype(float).values)\n",
      "bar = Bar(amount, details, filename=\"bar.html\")\n",
      "bar.title(\"MN Capital Budget - 2014\").xlabel(\"Detail\").ylabel(\"Amount\")\n",
      "bar.show()"
     ],
     "language": "python",
     "metadata": {},
     "outputs": [
      {
       "output_type": "stream",
       "stream": "stdout",
       "text": [
        "Wrote bar.html\n"
       ]
      },
      {
       "output_type": "stream",
       "stream": "stderr",
       "text": [
        "/Users/flyee/.pyenv/versions/miniconda-3.7.0/lib/python2.7/site-packages/bokeh/plotting_helpers.py:377: UserWarning: categorical plots do not support pan and zoom operations.\n",
        "Removing tool(s): pan, wheel_zoom, box_zoom\n",
        "  \"Removing tool(s): %s\" % ', '.join(removed_tools))\n"
       ]
      }
     ],
     "prompt_number": 31
    },
    {
     "cell_type": "code",
     "collapsed": false,
     "input": [
      "from pygal.style import LightStyle\n",
      "\n",
      "bar_chart = pygal.Bar(style=LightStyle, width=800, height=600,\n",
      "                      legend_at_bottom=True, human_readable=True,\n",
      "                      title='MN Capital Budget - 2014')\n",
      "for index, row in budget.iterrows():\n",
      "    bar_chart.add(row[\"detail\"], row[\"amount\"])\n",
      "    \n",
      "#bar_chart.render_to_file('budget.svg')\n",
      "#bar_chart.render_to_png('budget.png')"
     ],
     "language": "python",
     "metadata": {},
     "outputs": []
    }
   ],
   "metadata": {}
  }
 ]
}