{
 "cells": [
  {
   "cell_type": "markdown",
   "metadata": {},
   "source": [
    "# Exploring Python 3's Asyncio by Example\n",
    "\n",
    "http://www.giantflyingsaucer.com/blog/?p=5557"
   ]
  },
  {
   "cell_type": "code",
   "execution_count": 1,
   "metadata": {
    "collapsed": false
   },
   "outputs": [],
   "source": [
    "import asyncio\n",
    "import imp"
   ]
  },
  {
   "cell_type": "code",
   "execution_count": 2,
   "metadata": {
    "collapsed": false,
    "scrolled": true
   },
   "outputs": [
    {
     "name": "stdout",
     "output_type": "stream",
     "text": [
      "my_coroutine sleeping for: 3 seconds\n"
     ]
    },
    {
     "data": {
      "text/plain": [
       "[None]"
      ]
     },
     "execution_count": 2,
     "metadata": {},
     "output_type": "execute_result"
    }
   ],
   "source": [
    "# imp.reload(asyncio)\n",
    "@asyncio.coroutine\n",
    "def my_coroutine1(seconds_to_sleep=3):\n",
    "    print('my_coroutine sleeping for: {0} seconds'.format(seconds_to_sleep))\n",
    "    yield from asyncio.sleep(seconds_to_sleep)\n",
    "\n",
    "loop1 = asyncio.get_event_loop()\n",
    "loop1.run_until_complete(\n",
    "    asyncio.gather(my_coroutine1())\n",
    "    )\n",
    "# loop1.close()"
   ]
  },
  {
   "cell_type": "code",
   "execution_count": 4,
   "metadata": {
    "collapsed": false,
    "scrolled": true
   },
   "outputs": [
    {
     "name": "stdout",
     "output_type": "stream",
     "text": [
      "task1 sleep 4 seconds\n",
      "task2 sleep 3 seconds\n",
      "task3 sleep 2 seconds\n",
      "task3 finished\n",
      "task2 finished\n",
      "task1 finished\n"
     ]
    },
    {
     "data": {
      "text/plain": [
       "({<Task finished coro=<my_coroutine2() done, defined at <ipython-input-4-7c5d1aaa3b65>:2> result=None>,\n",
       "  <Task finished coro=<my_coroutine2() done, defined at <ipython-input-4-7c5d1aaa3b65>:2> result=None>,\n",
       "  <Task finished coro=<my_coroutine2() done, defined at <ipython-input-4-7c5d1aaa3b65>:2> result=None>},\n",
       " set())"
      ]
     },
     "execution_count": 4,
     "metadata": {},
     "output_type": "execute_result"
    }
   ],
   "source": [
    "import asyncio\n",
    "@asyncio.coroutine\n",
    "def my_coroutine2(task_name, seconds_to_sleep=3):\n",
    "    print('{} sleep {} seconds'.format(task_name, seconds_to_sleep))\n",
    "    yield from asyncio.sleep(seconds_to_sleep)\n",
    "    print('{} finished'.format(task_name))\n",
    "\n",
    "loop2 = asyncio.get_event_loop()\n",
    "tasks = [my_coroutine2('task1', 4),\n",
    "         my_coroutine2('task2', 3),\n",
    "         my_coroutine2('task3', 2)]\n",
    "loop2.run_until_complete(asyncio.wait(tasks))\n",
    "# loop.close()"
   ]
  },
  {
   "cell_type": "code",
   "execution_count": 5,
   "metadata": {
    "collapsed": false
   },
   "outputs": [
    {
     "name": "stdout",
     "output_type": "stream",
     "text": [
      "task1 sleep 3 seconds\n",
      "task2 sleep 1 seconds\n",
      "task2 finished\n",
      "task1 finished\n"
     ]
    },
    {
     "data": {
      "text/plain": [
       "({<Task finished coro=<my_coroutine3() done, defined at <ipython-input-5-56a7bd8d567a>:1> result=None>,\n",
       "  <Task finished coro=<my_coroutine3() done, defined at <ipython-input-5-56a7bd8d567a>:1> result=None>},\n",
       " set())"
      ]
     },
     "execution_count": 5,
     "metadata": {},
     "output_type": "execute_result"
    }
   ],
   "source": [
    "@asyncio.coroutine\n",
    "def my_coroutine3(future, task_name, seconds_to_sleep=3):\n",
    "    print('{} sleep {} seconds'.format(task_name, seconds_to_sleep))\n",
    "    yield from asyncio.sleep(seconds_to_sleep)\n",
    "    future.set_result('{} finished'.format(task_name))\n",
    "\n",
    "def got_result(future):\n",
    "    print(future.result())\n",
    "\n",
    "loop3 = asyncio.get_event_loop()\n",
    "future1 = asyncio.Future()\n",
    "future2 = asyncio.Future()\n",
    "\n",
    "tasks = [\n",
    "    my_coroutine3(future1, 'task1', 3),\n",
    "    my_coroutine3(future2, 'task2', 1)\n",
    "    ]\n",
    "future1.add_done_callback(got_result)\n",
    "future2.add_done_callback(got_result)\n",
    "\n",
    "loop3.run_until_complete(asyncio.wait(tasks))\n",
    "# loop3.close()"
   ]
  },
  {
   "cell_type": "code",
   "execution_count": 10,
   "metadata": {
    "collapsed": false
   },
   "outputs": [
    {
     "name": "stdout",
     "output_type": "stream",
     "text": [
      "URL: http://google.com; Content: b'<!doctype html><html'\n",
      "URL: http://twitter.com; Content: b'<!DOCTYPE html>\\n<!--'\n",
      "URL: http://cnn.com; Content: b'<!DOCTYPE html><html'\n",
      "<generator object fetch_page at 0x105129510>\n",
      "<generator object fetch_page at 0x1051297e0>\n",
      "<generator object fetch_page at 0x105129558>\n"
     ]
    }
   ],
   "source": [
    "import aiohttp\n",
    "import asyncio\n",
    "\n",
    "@asyncio.coroutine\n",
    "def fetch_page(url, pause=False):\n",
    "    if pause:\n",
    "        yield from asyncio.sleep(2)\n",
    "    response = yield from aiohttp.request('GET', url)\n",
    "    assert response.status == 200\n",
    "    content = yield from response.read()\n",
    "    print('URL: {}; Content: {}'.format(url, content[:20]))\n",
    "    \n",
    "loop4 = asyncio.get_event_loop()\n",
    "tasks = [\n",
    "    fetch_page('http://google.com'),\n",
    "    fetch_page('http://cnn.com', True),\n",
    "    fetch_page('http://twitter.com')\n",
    "    ]\n",
    "loop4.run_until_complete(asyncio.wait(tasks))\n",
    "# loop4.close()\n",
    "\n",
    "for task in tasks:\n",
    "    print(task)"
   ]
  },
  {
   "cell_type": "code",
   "execution_count": 11,
   "metadata": {
    "collapsed": false
   },
   "outputs": [
    {
     "name": "stdout",
     "output_type": "stream",
     "text": [
      "<Queue maxsize=0 _queue=[0, 1, 2, 3, 4, 5, 6, 7, 8, 9, 10, 11, 12, 13, 14, 15, 16, 17, 18, 19]>\n",
      "task1 grabbed 0\n",
      "task2 grabbed 1\n",
      "task3 grabbed 2\n",
      "task1 grabbed 3\n",
      "task2 grabbed 4\n",
      "task3 grabbed 5\n",
      "task1 grabbed 6\n",
      "task2 grabbed 7\n",
      "task3 grabbed 8\n",
      "task1 grabbed 9\n",
      "task2 grabbed 10\n",
      "task3 grabbed 11\n",
      "task1 grabbed 12\n",
      "task2 grabbed 13\n",
      "task3 grabbed 14\n",
      "task1 grabbed 15\n",
      "task2 grabbed 16\n",
      "task3 grabbed 17\n",
      "task1 grabbed 18\n",
      "task2 grabbed 19\n"
     ]
    },
    {
     "data": {
      "text/plain": [
       "({<Task finished coro=<do_work() done, defined at <ipython-input-11-b904faa695a5>:3> result=None>,\n",
       "  <Task finished coro=<do_work() done, defined at <ipython-input-11-b904faa695a5>:3> result=None>,\n",
       "  <Task finished coro=<do_work() done, defined at <ipython-input-11-b904faa695a5>:3> result=None>},\n",
       " set())"
      ]
     },
     "execution_count": 11,
     "metadata": {},
     "output_type": "execute_result"
    }
   ],
   "source": [
    "import asyncio\n",
    "\n",
    "@asyncio.coroutine\n",
    "def do_work(task_name, work_queue):\n",
    "    while not work_queue.empty():\n",
    "        queue_item = yield from work_queue.get()\n",
    "        print('{} grabbed {}'.format(task_name, queue_item))\n",
    "        yield from asyncio.sleep(0.5)\n",
    "    \n",
    "q = asyncio.Queue()\n",
    "for x in range(20):\n",
    "    q.put_nowait(x)\n",
    "print(q)\n",
    "\n",
    "loop5 = asyncio.get_event_loop()\n",
    "tasks = [\n",
    "    asyncio.async(do_work('task1', q)),\n",
    "    asyncio.async(do_work('task2', q)),\n",
    "    asyncio.async(do_work('task3', q))\n",
    "    ]\n",
    "loop5.run_until_complete(asyncio.wait(tasks))\n",
    "# loop5.close()\n",
    "    "
   ]
  },
  {
   "cell_type": "code",
   "execution_count": null,
   "metadata": {
    "collapsed": true
   },
   "outputs": [],
   "source": []
  }
 ],
 "metadata": {
  "kernelspec": {
   "display_name": "Python 3",
   "language": "python",
   "name": "python3"
  },
  "language_info": {
   "codemirror_mode": {
    "name": "ipython",
    "version": 3
   },
   "file_extension": ".py",
   "mimetype": "text/x-python",
   "name": "python",
   "nbconvert_exporter": "python",
   "pygments_lexer": "ipython3",
   "version": "3.4.3"
  }
 },
 "nbformat": 4,
 "nbformat_minor": 0
}
